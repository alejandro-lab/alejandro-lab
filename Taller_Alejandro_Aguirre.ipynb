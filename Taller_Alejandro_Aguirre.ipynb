{
 "cells": [
  {
   "cell_type": "markdown",
   "id": "6411267f-9881-44d4-963e-ae5c87b0e240",
   "metadata": {},
   "source": [
    "# $$ Taller$$ $$ Ayudemos $$ $$  a  $$  $$ Calcular$$  $$ al $$ $$Coyote $$\n",
    "## $El Problema$\n",
    "\n",
    "\n",
    ">Considere que se modela el sistema de la piedra que cae de la siguiente manera (2D):\n",
    "\n",
    "> Un cuerpo cuadrado de $b=3[m]$ de masa $m=2000[kg]$ que pivota sobre la esquina (punto O). Suponga que la piedra rueda sin deslizar y que hay una fricción en la rueda con $\\mu=0.3$."
   ]
  },
  {
   "cell_type": "markdown",
   "id": "2ab81595-bb94-463d-8f8e-e795003c2dc4",
   "metadata": {},
   "source": [
    "![Gráfico_Taller_Coyote_edited](Gráfico_Taller_Coyote_edited.jpg)"
   ]
  },
  {
   "cell_type": "markdown",
   "id": "8aa402be-ef11-4bea-921b-27d25e292465",
   "metadata": {},
   "source": [
    "![DCL](DCL.jpg)"
   ]
  },
  {
   "cell_type": "markdown",
   "id": "55e40280-329d-48d7-aa14-92d0fb0a804a",
   "metadata": {},
   "source": [
    "> $$b = 3 [m]$$\n",
    "> $$M = 2000kg$$\n",
    "> $$\\mu = 0.3$$"
   ]
  },
  {
   "cell_type": "markdown",
   "id": "3e20e1e6-caf6-4293-9c8e-50c2422dddc4",
   "metadata": {
    "jupyter": {
     "source_hidden": true
    },
    "tags": []
   },
   "source": [
    ">  Desarrollo:\n",
    "> Primero se considera al troque co respecto a o"
   ]
  },
  {
   "cell_type": "markdown",
   "id": "6da6187a-9ab9-4ddc-8e59-2ef6557f5437",
   "metadata": {},
   "source": [
    " $\\varSigma \\tau = I_{zz}\\theta$\n",
    " \n",
    " $-N cos\\theta = I_{zz}\\ddot{\\theta}$\n",
    " \n",
    " $-Mg \\frac{cos\\theta}{sin\\theta} = I_{zz}\\ddot{\\theta}$\n",
    " \n",
    " > Luego se considera el equilibrio:"
   ]
  },
  {
   "cell_type": "markdown",
   "id": "5ee3ca02-a01f-460c-a38c-d0d70af8189b",
   "metadata": {},
   "source": [
    "$ \\varSigma F_{y} = 0$                     \n",
    "\n",
    "$N sin\\theta + Fr cos\\theta = M g$\n",
    "\n",
    "$N = \\frac{M g}{-\\mu \\cos\\theta + \\sin\\theta}$\n",
    "\n",
    "$ \\varSigma F_{x} = 0$\n",
    "\n",
    "$- Fr \\sin \\theta + N cos\\theta = 0$\n",
    "\n",
    "\n"
   ]
  },
  {
   "cell_type": "markdown",
   "id": "1ad11b21-6647-45c4-8948-f4ff5ff3fd46",
   "metadata": {},
   "source": [
    "> Entonces:\n",
    "\n"
   ]
  },
  {
   "cell_type": "markdown",
   "id": "74076bae-3884-4c4b-9dce-6e3ac4a01315",
   "metadata": {},
   "source": [
    "$$\\theta = arcot \\left(\\frac{-\\mu * I_{zz} * \\ddot{\\theta}}{M g}\\right)$$ Si $$\\ddot{\\theta} = 0$$"
   ]
  },
  {
   "cell_type": "markdown",
   "id": "42f8846e-fb8e-42cf-88c5-cf9c22d13306",
   "metadata": {},
   "source": [
    "> Se sabe que:\n",
    "\n",
    "$$cot\\theta = \\left(\\frac{\\sqrt{1 - sen^2\\theta}}{sin\\theta}\\right) = 0$$ Si $$sen^2\\theta = 1$$ de tal modo que $$\\theta = 90 ^{\\circ}$$"
   ]
  },
  {
   "cell_type": "markdown",
   "id": "a38508a5-2f83-427d-9559-39c752530c00",
   "metadata": {},
   "source": [
    "![grafico3](grafico3.jpg)"
   ]
  },
  {
   "cell_type": "markdown",
   "id": "400fa5c7-3512-48b9-896d-4dc612ae5a38",
   "metadata": {},
   "source": [
    "> Luego para conocer el valor de $I_{zz}$, se tiene:\n",
    "\n",
    "> $Sea:  \\rho = \\frac{m}{A}$,  $m = \\rho A = \\rho xy$,   de tal modo que: $dm = \\rho dx dy$"
   ]
  },
  {
   "cell_type": "markdown",
   "id": "0d401eae-ceae-4e44-8a7f-9b8743cf845c",
   "metadata": {},
   "source": [
    "$I_{zz} = \\int_{}^{}\\int_{}^{} \\left( x^2 + y^2 \\right) \\rho dx dy$\n",
    "\n",
    "$I_{zz} = \\int_{0}^{b}\\int_{-b/2}^{b/2} \\left( \\frac{x^3}{3} + xy^2 \\right) \\rho dx dy$\n",
    "\n",
    "$I_{zz} = \\int_{0}^{b}\\left[ \\left( \\frac{b^3}{24} + \\frac{b y^2}{2}\\right) - \\left(- \\frac{b^3}{24} - \\frac{b y^2}{2}\\right) \\right] \\rho dy$\n",
    "\n",
    "$I_{zz} = \\int_{0}^{b} \\left[ \\left( \\frac{b^3}{12} + b y^2\\right) \\right] \\rho dy$ \n",
    "\n",
    "$I_{zz} =  \\left( \\frac{b^3}{12} + \\frac{b y^3}{3}\\right) \\rho$\n",
    "\n",
    "$I_{zz} =  \\left( \\frac{b^4}{12} + \\frac{b^4}{3}\\right) \\rho$\n",
    "\n",
    "> Entonces: \n",
    "\n",
    "$I_{zz} =  \\left( \\frac{15 b^4}{36}\\right) \\rho$ $ = \\left( \\frac{2000 kg}{9 m^2} * \\frac{15 b^4}{36} m^4\\right)$ $I_{zz} = 7500 kg m^2$\n",
    "\n",
    "\n"
   ]
  },
  {
   "cell_type": "markdown",
   "id": "2a7c65e1-794e-4d6d-a30c-e2c9b10cecfe",
   "metadata": {},
   "source": [
    "> Por lo que :\n",
    "\n",
    "$$\\ddot{\\theta} = \\frac{M g}{I_{zz}} cot\\theta $$\n",
    "\n",
    "$$\\ddot{\\theta} = \\frac{2000 kg * 9.81 m/s^2}{7500 kg} cot\\theta $$\n",
    "\n",
    "$$ \\vec{\\ddot{\\theta}} = 2.616 * cot\\theta m/s^2 \\vec{k} $$"
   ]
  },
  {
   "cell_type": "markdown",
   "id": "06c87171-ecc9-4278-ad1c-aeb148d0fdca",
   "metadata": {},
   "source": [
    "> Como conclusión claramente no podría pasar lo que le ocurrió en la caricatura al Coyote. "
   ]
  },
  {
   "cell_type": "code",
   "execution_count": 24,
   "id": "044fb3d0-0d6f-4fd1-9e4f-aa2b0b5ab1c9",
   "metadata": {},
   "outputs": [
    {
     "ename": "NameError",
     "evalue": "name 'px' is not defined",
     "output_type": "error",
     "traceback": [
      "\u001b[1;31m---------------------------------------------------------------------------\u001b[0m",
      "\u001b[1;31mNameError\u001b[0m                                 Traceback (most recent call last)",
      "\u001b[1;32m<ipython-input-24-291b15b109a7>\u001b[0m in \u001b[0;36m<module>\u001b[1;34m\u001b[0m\n\u001b[0;32m      7\u001b[0m \u001b[0mvth\u001b[0m\u001b[1;33m=\u001b[0m\u001b[0mnp\u001b[0m\u001b[1;33m.\u001b[0m\u001b[0marray\u001b[0m\u001b[1;33m(\u001b[0m\u001b[0mnp\u001b[0m\u001b[1;33m.\u001b[0m\u001b[0mdeg2rad\u001b[0m\u001b[1;33m(\u001b[0m\u001b[0mth\u001b[0m\u001b[1;33m)\u001b[0m\u001b[1;33m)\u001b[0m\u001b[1;33m\u001b[0m\u001b[1;33m\u001b[0m\u001b[0m\n\u001b[0;32m      8\u001b[0m \u001b[0mN\u001b[0m\u001b[1;33m=\u001b[0m\u001b[1;33m(\u001b[0m\u001b[1;36m2000\u001b[0m\u001b[1;33m*\u001b[0m\u001b[1;36m9.81\u001b[0m\u001b[1;33m)\u001b[0m\u001b[1;33m/\u001b[0m\u001b[1;33m(\u001b[0m\u001b[0mnp\u001b[0m\u001b[1;33m.\u001b[0m\u001b[0mcos\u001b[0m\u001b[1;33m(\u001b[0m\u001b[0mth\u001b[0m\u001b[1;33m)\u001b[0m\u001b[1;33m+\u001b[0m\u001b[1;36m0.3\u001b[0m\u001b[1;33m*\u001b[0m\u001b[0mnp\u001b[0m\u001b[1;33m.\u001b[0m\u001b[0msin\u001b[0m\u001b[1;33m(\u001b[0m\u001b[0mth\u001b[0m\u001b[1;33m)\u001b[0m\u001b[1;33m)\u001b[0m\u001b[1;33m\u001b[0m\u001b[1;33m\u001b[0m\u001b[0m\n\u001b[1;32m----> 9\u001b[1;33m \u001b[0mfig\u001b[0m\u001b[1;33m=\u001b[0m\u001b[0mpx\u001b[0m\u001b[1;33m.\u001b[0m\u001b[0mline\u001b[0m\u001b[1;33m(\u001b[0m\u001b[0mx\u001b[0m\u001b[1;33m=\u001b[0m\u001b[0mth\u001b[0m\u001b[1;33m,\u001b[0m\u001b[0my\u001b[0m\u001b[1;33m=\u001b[0m\u001b[0mN\u001b[0m\u001b[1;33m,\u001b[0m\u001b[0mlabels\u001b[0m\u001b[1;33m=\u001b[0m\u001b[1;33m{\u001b[0m\u001b[1;34m\"x\"\u001b[0m\u001b[1;33m:\u001b[0m\u001b[1;34m\"theta[deg]\"\u001b[0m\u001b[1;33m,\u001b[0m\u001b[1;34m\"y\"\u001b[0m\u001b[1;33m:\u001b[0m\u001b[1;34m\"Fuerza normal [N]\"\u001b[0m\u001b[1;33m}\u001b[0m\u001b[1;33m,\u001b[0m \u001b[0mtitle\u001b[0m\u001b[1;33m=\u001b[0m\u001b[1;34m\"Normal con respecto al tiempo\"\u001b[0m\u001b[1;33m)\u001b[0m\u001b[1;33m\u001b[0m\u001b[1;33m\u001b[0m\u001b[0m\n\u001b[0m\u001b[0;32m     10\u001b[0m \u001b[0mfig\u001b[0m\u001b[1;33m.\u001b[0m\u001b[0mshow\u001b[0m\u001b[1;33m(\u001b[0m\u001b[1;33m)\u001b[0m\u001b[1;33m\u001b[0m\u001b[1;33m\u001b[0m\u001b[0m\n",
      "\u001b[1;31mNameError\u001b[0m: name 'px' is not defined"
     ]
    }
   ],
   "source": [
    "import matplotlib.pyplot as plt\n",
    "import numpy as np\n",
    "from math import sin\n",
    "from math import pi\n",
    "from math import cos\n",
    "th=np.arange(0,pi,1)\n",
    "vth=np.array(np.deg2rad(th))\n",
    "N=(2000*9.81)/(np.cos(th)+0.3*np.sin(th))\n",
    "fig=px.line(x=th,y=N,labels={\"x\":\"theta[deg]\",\"y\":\"Fuerza normal [N]\"}, title=\"Normal con respecto al tiempo\")\n",
    "fig.show()"
   ]
  },
  {
   "cell_type": "code",
   "execution_count": null,
   "id": "c43e04db-4992-4980-a8f5-869c835b34aa",
   "metadata": {},
   "outputs": [],
   "source": []
  }
 ],
 "metadata": {
  "kernelspec": {
   "display_name": "Python 3",
   "language": "python",
   "name": "python3"
  },
  "language_info": {
   "codemirror_mode": {
    "name": "ipython",
    "version": 3
   },
   "file_extension": ".py",
   "mimetype": "text/x-python",
   "name": "python",
   "nbconvert_exporter": "python",
   "pygments_lexer": "ipython3",
   "version": "3.8.8"
  }
 },
 "nbformat": 4,
 "nbformat_minor": 5
}
